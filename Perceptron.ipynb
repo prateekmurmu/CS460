{
 "cells": [
  {
   "cell_type": "code",
   "execution_count": 1,
   "source": [
    "from matplotlib import pyplot as plt\r\n",
    "import numpy as np\r\n",
    "from pprint import pprint"
   ],
   "outputs": [],
   "metadata": {}
  },
  {
   "cell_type": "code",
   "execution_count": 2,
   "source": [
    "x1 = []\r\n",
    "x2 = []\r\n",
    "\r\n",
    "for i in range(10):\r\n",
    "    c1x = np.random.uniform(-1,0)\r\n",
    "    c1y = np.random.uniform(-1,0)\r\n",
    "    x1.append(c1x)\r\n",
    "    x2.append(c1y)\r\n",
    "    \r\n",
    "\r\n",
    "for i in range(10):\r\n",
    "    c1x = np.random.uniform(0,1)\r\n",
    "    c1y = np.random.uniform(0,1)\r\n",
    "    x1.append(c1x)\r\n",
    "    x2.append(c1y)\r\n",
    "    \r\n",
    "plt.scatter(x1,x2)\r\n",
    "plt.show()\r\n",
    "\r\n",
    "y = np.array([-1,-1,-1,-1,-1,-1,-1,-1,-1,-1,1,1,1,1,1,1,1,1,1,1])\r\n",
    "\r\n"
   ],
   "outputs": [
    {
     "output_type": "display_data",
     "data": {
      "image/png": "[encoded data removed]",
      "text/plain": [
       "<Figure size 432x288 with 1 Axes>"
      ]
     },
     "metadata": {
      "needs_background": "light"
     }
    }
   ],
   "metadata": {}
  },
  {
   "cell_type": "code",
   "execution_count": 9,
   "source": [
    "w = [0,0]\r\n",
    "bias = 1\r\n",
    "thresh = 0\r\n",
    "lr = 0.5\r\n",
    "epochs = 10\r\n",
    "\r\n",
    "for i in range(epochs):\r\n",
    "    for j in range(20):\r\n",
    "        sum = 0 \r\n",
    "        out = 0\r\n",
    "        sum = sum + x1[i]*w[0] + x2[i]*w[1]\r\n",
    "        out = sum + bias\r\n",
    "        if out > thresh:\r\n",
    "            tempy = 1\r\n",
    "        else:\r\n",
    "            tempy = -1\r\n",
    "\r\n",
    "        if tempy != y[i]:\r\n",
    "            w[0] = w[0] + lr*y[i]*x1[i]\r\n",
    "            w[1] = w[1] + lr*y[i]*x2[i]\r\n",
    "            bias = bias + lr*y[i]\r\n",
    "\r\n",
    "print(w)\r\n",
    "print(bias)\r\n",
    "plt.scatter(x1,x2)\r\n",
    "\r\n",
    "\r\n",
    "\r\n",
    "        \r\n",
    "\r\n",
    "       \r\n",
    "\r\n",
    "            \r\n",
    "\r\n",
    "\r\n",
    "\r\n",
    "\r\n"
   ],
   "outputs": [
    {
     "output_type": "stream",
     "name": "stdout",
     "text": [
      "[0.23043466786291322, 0.6670366863305002]\n",
      "0.0\n"
     ]
    },
    {
     "output_type": "execute_result",
     "data": {
      "text/plain": [
       "<matplotlib.collections.PathCollection at 0x1d1d78befd0>"
      ]
     },
     "metadata": {},
     "execution_count": 9
    },
    {
     "output_type": "display_data",
     "data": {
      "image/png": "[encoded data removed]",
      "text/plain": [
       "<Figure size 432x288 with 1 Axes>"
      ]
     },
     "metadata": {
      "needs_background": "light"
     }
    }
   ],
   "metadata": {}
  },
  {
   "cell_type": "code",
   "execution_count": 73,
   "source": [
    "np.random.uniform(-1,0)"
   ],
   "outputs": [
    {
     "output_type": "execute_result",
     "data": {
      "text/plain": [
       "-0.659650520204565"
      ]
     },
     "metadata": {},
     "execution_count": 73
    }
   ],
   "metadata": {}
  },
  {
   "cell_type": "code",
   "execution_count": null,
   "source": [],
   "outputs": [],
   "metadata": {}
  }
 ],
 "metadata": {
  "orig_nbformat": 4,
  "language_info": {
   "name": "python",
   "version": "3.9.5",
   "mimetype": "text/x-python",
   "codemirror_mode": {
    "name": "ipython",
    "version": 3
   },
   "pygments_lexer": "ipython3",
   "nbconvert_exporter": "python",
   "file_extension": ".py"
  },
  "kernelspec": {
   "name": "python3",
   "display_name": "Python 3.9.5 64-bit"
  },
  "interpreter": {
   "hash": "ac59ebe37160ed0dfa835113d9b8498d9f09ceb179beaac4002f036b9467c963"
  }
 },
 "nbformat": 4,
 "nbformat_minor": 2
}